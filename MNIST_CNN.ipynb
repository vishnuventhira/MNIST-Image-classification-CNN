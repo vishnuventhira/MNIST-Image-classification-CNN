{
 "cells": [
  {
   "cell_type": "code",
   "execution_count": 84,
   "metadata": {},
   "outputs": [],
   "source": [
    "#Basic Libs\n",
    "import pandas as pd\n",
    "import numpy as np\n",
    "\n",
    "#For Visualization\n",
    "import matplotlib.pyplot as plt\n",
    "import seaborn as sns\n",
    "\n",
    "#For Modelling\n",
    "from sklearn.model_selection import KFold\n",
    "from sklearn.model_selection import train_test_split, GridSearchCV\n",
    "\n",
    "#Additional\n",
    "import warnings\n",
    "warnings.filterwarnings(\"ignore\") \n",
    "\n",
    "\n",
    "##Neural Network \n",
    "from keras.callbacks import ModelCheckpoint\n",
    "from keras.models import Sequential\n",
    "from keras.layers import Dense, Activation, Flatten\n",
    "from keras.layers.core import Dropout\n",
    "from keras import models\n",
    "from keras import layers\n",
    "\n",
    "#CNN \n",
    "\n",
    "from keras.optimizers import SGD\n",
    "from keras.layers.convolutional import Convolution2D\n",
    "from keras.layers.convolutional import MaxPooling2D\n",
    "\n",
    "#Image Pre-Processing\n",
    "from keras.preprocessing.image import ImageDataGenerator"
   ]
  },
  {
   "cell_type": "code",
   "execution_count": 85,
   "metadata": {},
   "outputs": [],
   "source": [
    "#The dataset is available in keras datasets\n",
    "from keras.datasets import fashion_mnist\n",
    "\n",
    "#Loading the data into test and train objects\n",
    "(train_images, train_labels), (test_images, test_labels) = fashion_mnist.load_data()"
   ]
  },
  {
   "cell_type": "code",
   "execution_count": 86,
   "metadata": {},
   "outputs": [
    {
     "data": {
      "text/plain": [
       "array([9, 0, 0, ..., 3, 0, 5], dtype=uint8)"
      ]
     },
     "execution_count": 86,
     "metadata": {},
     "output_type": "execute_result"
    }
   ],
   "source": [
    "#printing the train labels\n",
    "train_labels"
   ]
  },
  {
   "cell_type": "code",
   "execution_count": 87,
   "metadata": {},
   "outputs": [],
   "source": [
    "# reshape dataset to have a single channel\n",
    "train_images_cnn = train_images.reshape((train_images.shape[0], 28, 28, 1))\n",
    "test_images_cnn = test_images.reshape((test_images.shape[0], 28, 28, 1))"
   ]
  },
  {
   "cell_type": "code",
   "execution_count": 88,
   "metadata": {},
   "outputs": [],
   "source": [
    "#Converting labels to categorical features\n",
    "from keras.utils import to_categorical\n",
    "\n",
    "train_labels = to_categorical(train_labels)\n",
    "test_labels = to_categorical(test_labels)"
   ]
  },
  {
   "cell_type": "markdown",
   "metadata": {},
   "source": [
    "Making a holdout for validation and using the rest for train. (80/20)\n",
    "\n",
    "This will help us tune the parameters."
   ]
  },
  {
   "cell_type": "code",
   "execution_count": 89,
   "metadata": {},
   "outputs": [],
   "source": [
    "x_train_partial_cnn, x_val_cnn, y_train_partial_cnn, y_val_cnn = train_test_split(train_images_cnn, train_labels, test_size = 0.2, random_state=17)"
   ]
  },
  {
   "cell_type": "code",
   "execution_count": 90,
   "metadata": {},
   "outputs": [
    {
     "name": "stdout",
     "output_type": "stream",
     "text": [
      "(60000, 28, 28)\n",
      "(10000, 28, 28)\n"
     ]
    }
   ],
   "source": [
    "# Seeing the shape of test and tarin\n",
    "\n",
    "print(train_images.shape)\n",
    "print(test_images.shape)\n",
    "\n",
    "#the shape looks fine"
   ]
  },
  {
   "cell_type": "code",
   "execution_count": 91,
   "metadata": {
    "scrolled": true
   },
   "outputs": [
    {
     "data": {
      "text/plain": [
       "array([[  0,   0,   0,   0,   0,   0,   0,   0,   0,   0,   0,   0,   0,\n",
       "          0,   0,   0,   0,   0,   0,   0,   0,   0,   0,   0,   0,   0,\n",
       "          0,   0],\n",
       "       [  0,   0,   0,   0,   0,   0,   0,   0,   0,   0,   0,   0,   0,\n",
       "          0,   0,   0,   0,   0,   0,   0,   0,   0,   0,   0,   0,   0,\n",
       "          0,   0],\n",
       "       [  0,   0,   0,   0,   0,   0,   0,   0,   0,   0,   0,   0,   0,\n",
       "          0,   0,   0,   0,   0,   0,   0,   0,   0,   0,   0,   0,   0,\n",
       "          0,   0],\n",
       "       [  0,   0,   0,   0,   0,   0,   0,   0,   0,   0,   0,   0,   1,\n",
       "          0,   0,  13,  73,   0,   0,   1,   4,   0,   0,   0,   0,   1,\n",
       "          1,   0],\n",
       "       [  0,   0,   0,   0,   0,   0,   0,   0,   0,   0,   0,   0,   3,\n",
       "          0,  36, 136, 127,  62,  54,   0,   0,   0,   1,   3,   4,   0,\n",
       "          0,   3],\n",
       "       [  0,   0,   0,   0,   0,   0,   0,   0,   0,   0,   0,   0,   6,\n",
       "          0, 102, 204, 176, 134, 144, 123,  23,   0,   0,   0,   0,  12,\n",
       "         10,   0],\n",
       "       [  0,   0,   0,   0,   0,   0,   0,   0,   0,   0,   0,   0,   0,\n",
       "          0, 155, 236, 207, 178, 107, 156, 161, 109,  64,  23,  77, 130,\n",
       "         72,  15],\n",
       "       [  0,   0,   0,   0,   0,   0,   0,   0,   0,   0,   0,   1,   0,\n",
       "         69, 207, 223, 218, 216, 216, 163, 127, 121, 122, 146, 141,  88,\n",
       "        172,  66],\n",
       "       [  0,   0,   0,   0,   0,   0,   0,   0,   0,   1,   1,   1,   0,\n",
       "        200, 232, 232, 233, 229, 223, 223, 215, 213, 164, 127, 123, 196,\n",
       "        229,   0],\n",
       "       [  0,   0,   0,   0,   0,   0,   0,   0,   0,   0,   0,   0,   0,\n",
       "        183, 225, 216, 223, 228, 235, 227, 224, 222, 224, 221, 223, 245,\n",
       "        173,   0],\n",
       "       [  0,   0,   0,   0,   0,   0,   0,   0,   0,   0,   0,   0,   0,\n",
       "        193, 228, 218, 213, 198, 180, 212, 210, 211, 213, 223, 220, 243,\n",
       "        202,   0],\n",
       "       [  0,   0,   0,   0,   0,   0,   0,   0,   0,   1,   3,   0,  12,\n",
       "        219, 220, 212, 218, 192, 169, 227, 208, 218, 224, 212, 226, 197,\n",
       "        209,  52],\n",
       "       [  0,   0,   0,   0,   0,   0,   0,   0,   0,   0,   6,   0,  99,\n",
       "        244, 222, 220, 218, 203, 198, 221, 215, 213, 222, 220, 245, 119,\n",
       "        167,  56],\n",
       "       [  0,   0,   0,   0,   0,   0,   0,   0,   0,   4,   0,   0,  55,\n",
       "        236, 228, 230, 228, 240, 232, 213, 218, 223, 234, 217, 217, 209,\n",
       "         92,   0],\n",
       "       [  0,   0,   1,   4,   6,   7,   2,   0,   0,   0,   0,   0, 237,\n",
       "        226, 217, 223, 222, 219, 222, 221, 216, 223, 229, 215, 218, 255,\n",
       "         77,   0],\n",
       "       [  0,   3,   0,   0,   0,   0,   0,   0,   0,  62, 145, 204, 228,\n",
       "        207, 213, 221, 218, 208, 211, 218, 224, 223, 219, 215, 224, 244,\n",
       "        159,   0],\n",
       "       [  0,   0,   0,   0,  18,  44,  82, 107, 189, 228, 220, 222, 217,\n",
       "        226, 200, 205, 211, 230, 224, 234, 176, 188, 250, 248, 233, 238,\n",
       "        215,   0],\n",
       "       [  0,  57, 187, 208, 224, 221, 224, 208, 204, 214, 208, 209, 200,\n",
       "        159, 245, 193, 206, 223, 255, 255, 221, 234, 221, 211, 220, 232,\n",
       "        246,   0],\n",
       "       [  3, 202, 228, 224, 221, 211, 211, 214, 205, 205, 205, 220, 240,\n",
       "         80, 150, 255, 229, 221, 188, 154, 191, 210, 204, 209, 222, 228,\n",
       "        225,   0],\n",
       "       [ 98, 233, 198, 210, 222, 229, 229, 234, 249, 220, 194, 215, 217,\n",
       "        241,  65,  73, 106, 117, 168, 219, 221, 215, 217, 223, 223, 224,\n",
       "        229,  29],\n",
       "       [ 75, 204, 212, 204, 193, 205, 211, 225, 216, 185, 197, 206, 198,\n",
       "        213, 240, 195, 227, 245, 239, 223, 218, 212, 209, 222, 220, 221,\n",
       "        230,  67],\n",
       "       [ 48, 203, 183, 194, 213, 197, 185, 190, 194, 192, 202, 214, 219,\n",
       "        221, 220, 236, 225, 216, 199, 206, 186, 181, 177, 172, 181, 205,\n",
       "        206, 115],\n",
       "       [  0, 122, 219, 193, 179, 171, 183, 196, 204, 210, 213, 207, 211,\n",
       "        210, 200, 196, 194, 191, 195, 191, 198, 192, 176, 156, 167, 177,\n",
       "        210,  92],\n",
       "       [  0,   0,  74, 189, 212, 191, 175, 172, 175, 181, 185, 188, 189,\n",
       "        188, 193, 198, 204, 209, 210, 210, 211, 188, 188, 194, 192, 216,\n",
       "        170,   0],\n",
       "       [  2,   0,   0,   0,  66, 200, 222, 237, 239, 242, 246, 243, 244,\n",
       "        221, 220, 193, 191, 179, 182, 182, 181, 176, 166, 168,  99,  58,\n",
       "          0,   0],\n",
       "       [  0,   0,   0,   0,   0,   0,   0,  40,  61,  44,  72,  41,  35,\n",
       "          0,   0,   0,   0,   0,   0,   0,   0,   0,   0,   0,   0,   0,\n",
       "          0,   0],\n",
       "       [  0,   0,   0,   0,   0,   0,   0,   0,   0,   0,   0,   0,   0,\n",
       "          0,   0,   0,   0,   0,   0,   0,   0,   0,   0,   0,   0,   0,\n",
       "          0,   0],\n",
       "       [  0,   0,   0,   0,   0,   0,   0,   0,   0,   0,   0,   0,   0,\n",
       "          0,   0,   0,   0,   0,   0,   0,   0,   0,   0,   0,   0,   0,\n",
       "          0,   0]], dtype=uint8)"
      ]
     },
     "execution_count": 91,
     "metadata": {},
     "output_type": "execute_result"
    }
   ],
   "source": [
    "#Looking at one individual point\n",
    "#In this each list corresponds to a row of pixels\n",
    "\n",
    "train_images[0]"
   ]
  },
  {
   "cell_type": "code",
   "execution_count": 92,
   "metadata": {},
   "outputs": [
    {
     "data": {
      "image/png": "[encoded data removed]",
      "text/plain": [
       "<Figure size 432x288 with 1 Axes>"
      ]
     },
     "metadata": {
      "needs_background": "light"
     },
     "output_type": "display_data"
    }
   ],
   "source": [
    "# now lets look at how these matrices values are displayed as images\n",
    "\n",
    "plt.imshow(train_images[100]);"
   ]
  },
  {
   "cell_type": "markdown",
   "metadata": {},
   "source": [
    "## Models "
   ]
  },
  {
   "cell_type": "markdown",
   "metadata": {},
   "source": [
    "### first basic model \n",
    "\n",
    "<b> This has not been mentioned in the assignment but we just wanted to give it a shot and see how the code for digits recognition performs on the fashion dataset"
   ]
  },
  {
   "cell_type": "code",
   "execution_count": 93,
   "metadata": {},
   "outputs": [],
   "source": [
    "#Creating the network architecture\n",
    "\n",
    "network = models.Sequential() #sequential models\n",
    "network.add(layers.Flatten())\n",
    "network.add(layers.Dense(512, activation='relu')) # 512 features are created from the input ones\n",
    "network.add(layers.Dense(10, activation='softmax')) #This is the final layer that has ten categories who probabilties add to 1."
   ]
  },
  {
   "cell_type": "code",
   "execution_count": 94,
   "metadata": {},
   "outputs": [],
   "source": [
    "network.compile(optimizer='rmsprop',\n",
    "loss='categorical_crossentropy',\n",
    "metrics=['accuracy'])"
   ]
  },
  {
   "cell_type": "code",
   "execution_count": 95,
   "metadata": {},
   "outputs": [
    {
     "name": "stdout",
     "output_type": "stream",
     "text": [
      "Epoch 1/5\n",
      "48000/48000 [==============================] - 15s 314us/step - loss: 19.4788 - accuracy: 0.7148\n",
      "Epoch 2/5\n",
      "48000/48000 [==============================] - 12s 244us/step - loss: 0.8634 - accuracy: 0.7937s - loss: 0.8652 - accura\n",
      "Epoch 3/5\n",
      "48000/48000 [==============================] - 11s 224us/step - loss: 0.6781 - accuracy: 0.8204\n",
      "Epoch 4/5\n",
      "48000/48000 [==============================] - 13s 273us/step - loss: 0.6385 - accuracy: 0.8285\n",
      "Epoch 5/5\n",
      "48000/48000 [==============================] - 13s 265us/step - loss: 0.5707 - accuracy: 0.8394\n"
     ]
    },
    {
     "data": {
      "text/plain": [
       "<keras.callbacks.callbacks.History at 0x1f42c024d68>"
      ]
     },
     "execution_count": 95,
     "metadata": {},
     "output_type": "execute_result"
    }
   ],
   "source": [
    "network.fit(x_train_partial_cnn, y_train_partial_cnn, epochs=5, batch_size=128)"
   ]
  },
  {
   "cell_type": "code",
   "execution_count": 96,
   "metadata": {},
   "outputs": [
    {
     "name": "stdout",
     "output_type": "stream",
     "text": [
      "10000/10000 [==============================] - 9s 898us/step\n"
     ]
    }
   ],
   "source": [
    "test_loss_cnn, test_acc_cnn = network.evaluate(test_images_cnn, test_labels)"
   ]
  },
  {
   "cell_type": "code",
   "execution_count": 97,
   "metadata": {},
   "outputs": [
    {
     "data": {
      "text/plain": [
       "0.6830000281333923"
      ]
     },
     "execution_count": 97,
     "metadata": {},
     "output_type": "execute_result"
    }
   ],
   "source": [
    "test_acc_cnn"
   ]
  },
  {
   "cell_type": "markdown",
   "metadata": {},
   "source": [
    "### Multi-layer perceptron\n",
    "\n",
    "* As mentioned in the assignment it needs to have four hidden layers.\n",
    "* Also, we have tried the funneling approach reducing the number of nodes in each progressive layer\n",
    "* A lot of code has been replicated from FChollets book to which we give due credit and appreciation\n"
   ]
  },
  {
   "cell_type": "code",
   "execution_count": 98,
   "metadata": {},
   "outputs": [],
   "source": [
    "#Creating the model1 architecture\n",
    "\n",
    "model1 = models.Sequential() #sequential models\n",
    "model1.add(layers.Flatten())\n",
    "model1.add(layers.Dense(512, activation='relu')) # 512 features are created from the input ones\n",
    "model1.add(layers.Dense(256, activation='relu')) # 256 features are created from the input ones\n",
    "model1.add(layers.Dense(128, activation='relu')) # 128 features are created from the input ones\n",
    "model1.add(layers.Dense(64, activation='relu')) # 64 features are created from the input ones\n",
    "model1.add(layers.Dense(10, activation='softmax')) #This is the final layer that has ten categories who probabilties add to 1."
   ]
  },
  {
   "cell_type": "code",
   "execution_count": 99,
   "metadata": {},
   "outputs": [],
   "source": [
    "# Compiling the model\n",
    "# since many categories are present, I have used categorical_crossentropy\n",
    "\n",
    "model1.compile(optimizer='rmsprop', loss='categorical_crossentropy', metrics=['accuracy'])"
   ]
  },
  {
   "cell_type": "code",
   "execution_count": 100,
   "metadata": {
    "scrolled": true
   },
   "outputs": [
    {
     "name": "stdout",
     "output_type": "stream",
     "text": [
      "Train on 48000 samples, validate on 12000 samples\n",
      "Epoch 1/10\n",
      "48000/48000 [==============================] - 13s 270us/step - loss: 14.7015 - accuracy: 0.5609 - val_loss: 1.3388 - val_accuracy: 0.6758\n",
      "Epoch 2/10\n",
      "48000/48000 [==============================] - 12s 259us/step - loss: 1.1452 - accuracy: 0.6973 - val_loss: 0.6281 - val_accuracy: 0.7708\n",
      "Epoch 3/10\n",
      "48000/48000 [==============================] - 13s 262us/step - loss: 0.7696 - accuracy: 0.7465 - val_loss: 0.5311 - val_accuracy: 0.8202\n",
      "Epoch 4/10\n",
      "48000/48000 [==============================] - 12s 243us/step - loss: 0.5756 - accuracy: 0.7957 - val_loss: 0.6299 - val_accuracy: 0.8118\n",
      "Epoch 5/10\n",
      "48000/48000 [==============================] - 12s 258us/step - loss: 0.5126 - accuracy: 0.8151 - val_loss: 0.4057 - val_accuracy: 0.8518\n",
      "Epoch 6/10\n",
      "48000/48000 [==============================] - 12s 254us/step - loss: 0.4570 - accuracy: 0.8318 - val_loss: 0.4780 - val_accuracy: 0.8292\n",
      "Epoch 7/10\n",
      "48000/48000 [==============================] - 12s 242us/step - loss: 0.4304 - accuracy: 0.8435 - val_loss: 0.4304 - val_accuracy: 0.8445\n",
      "Epoch 8/10\n",
      "48000/48000 [==============================] - 12s 253us/step - loss: 0.4055 - accuracy: 0.8506 - val_loss: 0.4150 - val_accuracy: 0.8488\n",
      "Epoch 9/10\n",
      "48000/48000 [==============================] - 13s 265us/step - loss: 0.3768 - accuracy: 0.8620 - val_loss: 0.4088 - val_accuracy: 0.8587\n",
      "Epoch 10/10\n",
      "48000/48000 [==============================] - 12s 246us/step - loss: 0.3663 - accuracy: 0.8668 - val_loss: 0.4510 - val_accuracy: 0.8475\n"
     ]
    }
   ],
   "source": [
    "# The history variable will have all the parameters for model fitting\n",
    "#This will be easier for visualization and tuning\n",
    "\n",
    "history = model1.fit(x_train_partial_cnn,\n",
    "                    y_train_partial_cnn,\n",
    "                    epochs=25,\n",
    "                    batch_size=512,\n",
    "                    validation_data=(x_val_cnn, y_val_cnn))"
   ]
  },
  {
   "cell_type": "code",
   "execution_count": 101,
   "metadata": {},
   "outputs": [
    {
     "data": {
      "image/png": "[encoded data removed]",
      "text/plain": [
       "<Figure size 432x288 with 1 Axes>"
      ]
     },
     "metadata": {
      "needs_background": "light"
     },
     "output_type": "display_data"
    }
   ],
   "source": [
    "loss = history.history['loss']\n",
    "val_loss = history.history['val_loss']\n",
    "epochs = range(1, len(loss) + 1)\n",
    "plt.plot(epochs, loss, 'bo', label='Training loss')\n",
    "plt.plot(epochs, val_loss, 'b', label='Validation loss')\n",
    "plt.title('Training and validation loss')\n",
    "plt.xlabel('Epochs')\n",
    "plt.ylabel('Loss')\n",
    "plt.legend()\n",
    "plt.show()"
   ]
  },
  {
   "cell_type": "markdown",
   "metadata": {},
   "source": [
    "From above, it looks like that it begins to overfit around 6th epoch. <br>\n",
    "So we are going to retrain the model from scratch and try to predict the for test set"
   ]
  },
  {
   "cell_type": "code",
   "execution_count": 102,
   "metadata": {},
   "outputs": [
    {
     "data": {
      "image/png": "[encoded data removed]",
      "text/plain": [
       "<Figure size 432x288 with 1 Axes>"
      ]
     },
     "metadata": {
      "needs_background": "light"
     },
     "output_type": "display_data"
    }
   ],
   "source": [
    "plt.clf()\n",
    "acc = history.history['accuracy']\n",
    "val_acc = history.history['val_accuracy']\n",
    "plt.plot(epochs, acc, 'bo', label='Training acc')\n",
    "plt.plot(epochs, val_acc, 'b', label='Validation acc')\n",
    "plt.title('Training and validation accuracy')\n",
    "plt.xlabel('Epochs')\n",
    "plt.ylabel('Accuracy')\n",
    "plt.legend()\n",
    "plt.show()"
   ]
  },
  {
   "cell_type": "markdown",
   "metadata": {},
   "source": [
    "From here it look like that even 10 might not be a bad choice to limit it for overfitting. \n",
    "\n",
    "So we are taking 10 as the number of epoch for the final model"
   ]
  },
  {
   "cell_type": "markdown",
   "metadata": {},
   "source": [
    "<b> Retraining the model from scratch"
   ]
  },
  {
   "cell_type": "code",
   "execution_count": 103,
   "metadata": {},
   "outputs": [],
   "source": [
    "# We are training the whole model from begining here\n",
    "\n",
    "model1 = models.Sequential() #sequential models\n",
    "model1.add(layers.Flatten())\n",
    "model1.add(layers.Dense(512, activation='relu', input_shape=(28 * 28,))) # 512 features are created from the input ones\n",
    "model1.add(layers.Dense(256, activation='relu', input_shape=(28 * 28,))) #\n",
    "model1.add(layers.Dense(128, activation='relu', input_shape=(28 * 28,))) #\n",
    "model1.add(layers.Dense(64, activation='relu', input_shape=(28 * 28,))) # \n",
    "model1.add(layers.Dense(10, activation='softmax')) #This is the final layer that has ten categories who probabilties add to 1.\n",
    "\n",
    "\n",
    "model1.compile(optimizer='rmsprop', loss='categorical_crossentropy', metrics=['accuracy'])"
   ]
  },
  {
   "cell_type": "code",
   "execution_count": 104,
   "metadata": {},
   "outputs": [
    {
     "name": "stdout",
     "output_type": "stream",
     "text": [
      "Train on 48000 samples, validate on 12000 samples\n",
      "Epoch 1/11\n",
      "48000/48000 [==============================] - 15s 308us/step - loss: 16.2703 - accuracy: 0.5588 - val_loss: 1.6409 - val_accuracy: 0.6595\n",
      "Epoch 2/11\n",
      "48000/48000 [==============================] - 12s 258us/step - loss: 1.4499 - accuracy: 0.6886 - val_loss: 0.6678 - val_accuracy: 0.7563\n",
      "Epoch 3/11\n",
      "48000/48000 [==============================] - 11s 227us/step - loss: 0.8294 - accuracy: 0.7467 - val_loss: 0.5599 - val_accuracy: 0.7903\n",
      "Epoch 4/11\n",
      "48000/48000 [==============================] - 11s 225us/step - loss: 0.6071 - accuracy: 0.7921 - val_loss: 0.5709 - val_accuracy: 0.7905\n",
      "Epoch 5/11\n",
      "48000/48000 [==============================] - 11s 230us/step - loss: 0.5530 - accuracy: 0.8090 - val_loss: 0.6651 - val_accuracy: 0.7721\n",
      "Epoch 6/11\n",
      "48000/48000 [==============================] - 12s 243us/step - loss: 0.4600 - accuracy: 0.8347 - val_loss: 0.4600 - val_accuracy: 0.8335\n",
      "Epoch 7/11\n",
      "48000/48000 [==============================] - 14s 301us/step - loss: 0.4320 - accuracy: 0.8429 - val_loss: 0.6095 - val_accuracy: 0.8082\n",
      "Epoch 8/11\n",
      "48000/48000 [==============================] - 14s 283us/step - loss: 0.3991 - accuracy: 0.8528 - val_loss: 0.4515 - val_accuracy: 0.8447\n",
      "Epoch 9/11\n",
      "48000/48000 [==============================] - 13s 263us/step - loss: 0.3764 - accuracy: 0.8618 - val_loss: 0.4855 - val_accuracy: 0.8288\n",
      "Epoch 10/11\n",
      "48000/48000 [==============================] - 11s 232us/step - loss: 0.3659 - accuracy: 0.8651 - val_loss: 0.3878 - val_accuracy: 0.8603\n",
      "Epoch 11/11\n",
      "48000/48000 [==============================] - 12s 242us/step - loss: 0.3513 - accuracy: 0.8713 - val_loss: 0.4267 - val_accuracy: 0.8624\n"
     ]
    },
    {
     "data": {
      "text/plain": [
       "<keras.callbacks.callbacks.History at 0x1f439684710>"
      ]
     },
     "execution_count": 104,
     "metadata": {},
     "output_type": "execute_result"
    }
   ],
   "source": [
    "model1.fit(x_train_partial_cnn,\n",
    "            y_train_partial_cnn,\n",
    "            epochs=11,\n",
    "            batch_size=512,\n",
    "            validation_data=(x_val_cnn, y_val_cnn))"
   ]
  },
  {
   "cell_type": "code",
   "execution_count": 105,
   "metadata": {},
   "outputs": [
    {
     "name": "stdout",
     "output_type": "stream",
     "text": [
      "10000/10000 [==============================] - 3s 259us/step\n"
     ]
    }
   ],
   "source": [
    "results = model1.evaluate(test_images_cnn, test_labels)"
   ]
  },
  {
   "cell_type": "code",
   "execution_count": 106,
   "metadata": {},
   "outputs": [
    {
     "data": {
      "text/plain": [
       "[0.48003657822608947, 0.8458999991416931]"
      ]
     },
     "execution_count": 106,
     "metadata": {},
     "output_type": "execute_result"
    }
   ],
   "source": [
    "results"
   ]
  },
  {
   "cell_type": "markdown",
   "metadata": {},
   "source": [
    "As it can be seen above the accuracy is about 88%."
   ]
  },
  {
   "cell_type": "markdown",
   "metadata": {},
   "source": [
    " "
   ]
  },
  {
   "cell_type": "markdown",
   "metadata": {},
   "source": [
    "### Baseline CNN model.\n",
    "\n",
    "* In this we have fit the baseline CNN model\n",
    "* We have modified the parameters to the best of our intuition"
   ]
  },
  {
   "cell_type": "code",
   "execution_count": 107,
   "metadata": {},
   "outputs": [],
   "source": [
    "#Creating the cnn model\n",
    "model_cnn = models.Sequential() # The different layers will be added in a seqeunce\n",
    "\n",
    "# Adding a convulusion layer\n",
    "model_cnn.add(Convolution2D(15,3, 3, input_shape=(28, 28,1), activation='relu',border_mode= 'same'))\n",
    "#Pooling layer to donsize the data extract maximum in the filter \n",
    "model_cnn.add(MaxPooling2D(pool_size=(2, 2),padding='same'))\n",
    "# Dropout to fight overfitting\n",
    "model_cnn.add(Dropout(0.2))\n",
    "#Another pooling layer with 64 filters this time. Relu activation to make sure no value is negative\n",
    "model_cnn.add(Convolution2D(64, 3, 3, activation='relu', border_mode='same'))\n",
    "#Another pooling layer with same padding\n",
    "model_cnn.add(MaxPooling2D(pool_size=(2, 2),padding='same'))\n",
    "#naother dropout layer to combat overfitting.\n",
    "model_cnn.add(Dropout(0.1))\n",
    "          \n",
    "# Creating a regular neural network\n",
    "model_cnn.add(Flatten()) # Flattens the output from cnn for nn\n",
    "model_cnn.add(Dense(256, activation='relu')) #regular hiddden layer with 256 nodes\n",
    "model_cnn.add(Dense(128, activation='relu')) #regular hiddden layer with 128 nodes\n",
    "          \n",
    "# Final output layer with ten nodes, one for each category\n",
    "model_cnn.add(Dense(10, activation='softmax'))"
   ]
  },
  {
   "cell_type": "code",
   "execution_count": 108,
   "metadata": {},
   "outputs": [],
   "source": [
    "model_cnn.compile(loss='categorical_crossentropy',\n",
    "             optimizer='adam',\n",
    "             metrics=['accuracy'])"
   ]
  },
  {
   "cell_type": "code",
   "execution_count": 110,
   "metadata": {},
   "outputs": [
    {
     "name": "stdout",
     "output_type": "stream",
     "text": [
      "Train on 48000 samples, validate on 12000 samples\n",
      "Epoch 1/10\n",
      "48000/48000 [==============================] - 135s 3ms/step - loss: 0.9173 - accuracy: 0.7870 - val_loss: 0.3997 - val_accuracy: 0.8648\n",
      "Epoch 2/10\n",
      "48000/48000 [==============================] - 140s 3ms/step - loss: 0.3763 - accuracy: 0.8621 - val_loss: 0.3368 - val_accuracy: 0.8770\n",
      "Epoch 3/10\n",
      "48000/48000 [==============================] - 126s 3ms/step - loss: 0.3275 - accuracy: 0.8786 - val_loss: 0.2893 - val_accuracy: 0.8933\n",
      "Epoch 4/10\n",
      "48000/48000 [==============================] - 124s 3ms/step - loss: 0.2918 - accuracy: 0.8905 - val_loss: 0.2819 - val_accuracy: 0.8988\n",
      "Epoch 5/10\n",
      "48000/48000 [==============================] - 125s 3ms/step - loss: 0.2718 - accuracy: 0.9004 - val_loss: 0.2642 - val_accuracy: 0.9056\n",
      "Epoch 6/10\n",
      "48000/48000 [==============================] - 126s 3ms/step - loss: 0.2571 - accuracy: 0.9040 - val_loss: 0.2438 - val_accuracy: 0.9106\n",
      "Epoch 7/10\n",
      "48000/48000 [==============================] - 124s 3ms/step - loss: 0.2410 - accuracy: 0.9092 - val_loss: 0.2409 - val_accuracy: 0.9121\n",
      "Epoch 8/10\n",
      "48000/48000 [==============================] - 124s 3ms/step - loss: 0.2285 - accuracy: 0.9139 - val_loss: 0.2417 - val_accuracy: 0.9107\n",
      "Epoch 9/10\n",
      "48000/48000 [==============================] - 123s 3ms/step - loss: 0.2198 - accuracy: 0.9174 - val_loss: 0.2373 - val_accuracy: 0.9111\n",
      "Epoch 10/10\n",
      "48000/48000 [==============================] - 121s 3ms/step - loss: 0.2035 - accuracy: 0.9222 - val_loss: 0.2535 - val_accuracy: 0.9094\n"
     ]
    }
   ],
   "source": [
    "%%time\n",
    "\n",
    "history =    model_cnn.fit(x_train_partial_cnn,\n",
    "             y_train_partial_cnn,\n",
    "             batch_size=64,\n",
    "             epochs=10,\n",
    "             validation_data=(x_val_cnn, y_val_cnn))"
   ]
  },
  {
   "cell_type": "code",
   "execution_count": 111,
   "metadata": {},
   "outputs": [
    {
     "name": "stdout",
     "output_type": "stream",
     "text": [
      "10000/10000 [==============================] - 8s 827us/step\n"
     ]
    }
   ],
   "source": [
    "test_loss_cnn, test_acc_cnn = model_cnn.evaluate(test_images_cnn, test_labels)"
   ]
  },
  {
   "cell_type": "code",
   "execution_count": 112,
   "metadata": {},
   "outputs": [
    {
     "data": {
      "text/plain": [
       "0.9032999873161316"
      ]
     },
     "execution_count": 112,
     "metadata": {},
     "output_type": "execute_result"
    }
   ],
   "source": [
    "test_acc_cnn"
   ]
  },
  {
   "cell_type": "markdown",
   "metadata": {},
   "source": [
    "### Image Standarization "
   ]
  },
  {
   "cell_type": "code",
   "execution_count": 113,
   "metadata": {},
   "outputs": [],
   "source": [
    "from keras.preprocessing.image import ImageDataGenerator"
   ]
  },
  {
   "cell_type": "markdown",
   "metadata": {},
   "source": [
    "#### CNN "
   ]
  },
  {
   "cell_type": "markdown",
   "metadata": {},
   "source": [
    "The data is cleaned/standarised using the Image data Generattor. Many different functions can be applied in the same generator.\n",
    "* <b> feature_wise_center, feature_wise_std_normalization </b> -  This centers and scales the image\n",
    "* <b> rescale </b> - This converts all the pixels value in the range (0,1). A lot of blogs suggest that NN likes small inputs.\n",
    "* <b> zca whitening </b> - This emphasized the pixels that have some objects. Its sort of cousin to PCA.\n",
    "* <b> rotation_range </b> - Rotates the images in the mentioned range (Max).\n",
    "* <b> Horizontal/Vertical Flip </b>  - Flips the image around the axis.\n",
    "\n",
    "Then the generator is fit into the model, pretty much similar to fitting the data. In this case 'class_mode' arguement is not working. The probable issue is the version of TF. But its fine without that as well.\n",
    "\n",
    "Should discuss with Prof.Dave how much epochs to run for."
   ]
  },
  {
   "cell_type": "code",
   "execution_count": 114,
   "metadata": {},
   "outputs": [],
   "source": [
    "train_datagen_cnn = ImageDataGenerator(featurewise_center=True, featurewise_std_normalization=True,rescale=1./255,\n",
    "                             zca_whitening=True, rotation_range=90,horizontal_flip=True, vertical_flip=True)\n",
    "\n",
    "test_datagen_cnn = ImageDataGenerator(rescale=1./255)\n",
    "\n",
    "#, class_mode='categorical'\n",
    "\n",
    "train_generator_cnn = train_datagen_cnn.flow(x_train_partial_cnn, y_train_partial_cnn)\n",
    "validation_generator_cnn = test_datagen_cnn.flow(x_val_cnn, y_val_cnn)\n"
   ]
  },
  {
   "cell_type": "code",
   "execution_count": 133,
   "metadata": {},
   "outputs": [
    {
     "name": "stdout",
     "output_type": "stream",
     "text": [
      "Epoch 1/60\n",
      "420/420 [==============================] - 57s 135ms/step - loss: 0.5635 - accuracy: 0.7940 - val_loss: 0.6155 - val_accuracy: 0.8077\n",
      "Epoch 2/60\n",
      "420/420 [==============================] - 54s 129ms/step - loss: 0.5677 - accuracy: 0.7870 - val_loss: 0.6677 - val_accuracy: 0.8151\n",
      "Epoch 3/60\n",
      "420/420 [==============================] - 54s 129ms/step - loss: 0.5575 - accuracy: 0.7971 - val_loss: 0.4467 - val_accuracy: 0.8166\n",
      "Epoch 4/60\n",
      "420/420 [==============================] - 54s 128ms/step - loss: 0.5576 - accuracy: 0.7933 - val_loss: 0.4804 - val_accuracy: 0.8064\n",
      "Epoch 5/60\n",
      "420/420 [==============================] - 54s 130ms/step - loss: 0.5673 - accuracy: 0.7935 - val_loss: 0.5755 - val_accuracy: 0.8061\n",
      "Epoch 6/60\n",
      "420/420 [==============================] - 54s 128ms/step - loss: 0.5521 - accuracy: 0.7946 - val_loss: 0.5189 - val_accuracy: 0.8264\n",
      "Epoch 7/60\n",
      "420/420 [==============================] - 54s 129ms/step - loss: 0.5612 - accuracy: 0.7946 - val_loss: 0.3445 - val_accuracy: 0.8137\n",
      "Epoch 8/60\n",
      "420/420 [==============================] - 55s 130ms/step - loss: 0.5616 - accuracy: 0.7899 - val_loss: 0.4417 - val_accuracy: 0.8287\n",
      "Epoch 9/60\n",
      "420/420 [==============================] - 60s 144ms/step - loss: 0.5505 - accuracy: 0.7991 - val_loss: 0.4831 - val_accuracy: 0.8231\n",
      "Epoch 10/60\n",
      "420/420 [==============================] - 60s 142ms/step - loss: 0.5477 - accuracy: 0.7949 - val_loss: 0.7437 - val_accuracy: 0.8200\n",
      "Epoch 11/60\n",
      "420/420 [==============================] - 53s 127ms/step - loss: 0.5410 - accuracy: 0.8025 - val_loss: 0.3532 - val_accuracy: 0.8273\n",
      "Epoch 12/60\n",
      "420/420 [==============================] - 70s 166ms/step - loss: 0.5437 - accuracy: 0.7982 - val_loss: 0.6089 - val_accuracy: 0.8228\n",
      "Epoch 13/60\n",
      "420/420 [==============================] - 64s 153ms/step - loss: 0.5490 - accuracy: 0.7987 - val_loss: 0.4811 - val_accuracy: 0.8140\n",
      "Epoch 14/60\n",
      "420/420 [==============================] - 58s 138ms/step - loss: 0.5343 - accuracy: 0.8026 - val_loss: 0.6831 - val_accuracy: 0.8058\n",
      "Epoch 15/60\n",
      "420/420 [==============================] - 53s 127ms/step - loss: 0.5269 - accuracy: 0.8052 - val_loss: 0.3577 - val_accuracy: 0.8295\n",
      "Epoch 16/60\n",
      "420/420 [==============================] - 54s 130ms/step - loss: 0.5425 - accuracy: 0.7977 - val_loss: 0.5219 - val_accuracy: 0.8198\n",
      "Epoch 17/60\n",
      "420/420 [==============================] - 55s 131ms/step - loss: 0.5322 - accuracy: 0.8031 - val_loss: 0.8538 - val_accuracy: 0.8228\n",
      "Epoch 18/60\n",
      "420/420 [==============================] - 55s 131ms/step - loss: 0.5487 - accuracy: 0.8004 - val_loss: 0.6146 - val_accuracy: 0.8261\n",
      "Epoch 19/60\n",
      "420/420 [==============================] - 55s 131ms/step - loss: 0.5378 - accuracy: 0.8012 - val_loss: 0.7032 - val_accuracy: 0.8238\n",
      "Epoch 20/60\n",
      "420/420 [==============================] - 54s 129ms/step - loss: 0.5294 - accuracy: 0.8068 - val_loss: 0.2848 - val_accuracy: 0.8253\n",
      "Epoch 21/60\n",
      "420/420 [==============================] - 55s 131ms/step - loss: 0.5413 - accuracy: 0.7991 - val_loss: 0.3755 - val_accuracy: 0.8341\n",
      "Epoch 22/60\n",
      "420/420 [==============================] - 54s 129ms/step - loss: 0.5053 - accuracy: 0.8179 - val_loss: 0.4045 - val_accuracy: 0.8141\n",
      "Epoch 23/60\n",
      "420/420 [==============================] - 53s 126ms/step - loss: 0.5394 - accuracy: 0.8009 - val_loss: 0.4234 - val_accuracy: 0.8068\n",
      "Epoch 24/60\n",
      "420/420 [==============================] - 59s 140ms/step - loss: 0.5282 - accuracy: 0.8116 - val_loss: 0.2904 - val_accuracy: 0.8387\n",
      "Epoch 25/60\n",
      "420/420 [==============================] - 59s 142ms/step - loss: 0.5375 - accuracy: 0.8031 - val_loss: 0.3745 - val_accuracy: 0.8322\n",
      "Epoch 26/60\n",
      "420/420 [==============================] - 64s 152ms/step - loss: 0.5393 - accuracy: 0.8031 - val_loss: 0.5834 - val_accuracy: 0.8308\n",
      "Epoch 27/60\n",
      "420/420 [==============================] - 69s 164ms/step - loss: 0.5099 - accuracy: 0.8126 - val_loss: 0.4742 - val_accuracy: 0.8289\n",
      "Epoch 28/60\n",
      "420/420 [==============================] - 67s 159ms/step - loss: 0.5324 - accuracy: 0.8027 - val_loss: 0.5142 - val_accuracy: 0.8307\n",
      "Epoch 29/60\n",
      "420/420 [==============================] - 57s 135ms/step - loss: 0.5113 - accuracy: 0.8108 - val_loss: 0.2727 - val_accuracy: 0.8264\n",
      "Epoch 30/60\n",
      "420/420 [==============================] - 49s 118ms/step - loss: 0.5336 - accuracy: 0.8048 - val_loss: 0.2561 - val_accuracy: 0.8223\n",
      "Epoch 31/60\n",
      "420/420 [==============================] - 55s 130ms/step - loss: 0.5178 - accuracy: 0.8100 - val_loss: 0.7856 - val_accuracy: 0.8289\n",
      "Epoch 32/60\n",
      "420/420 [==============================] - 48s 114ms/step - loss: 0.5133 - accuracy: 0.8106 - val_loss: 0.4719 - val_accuracy: 0.8296\n",
      "Epoch 33/60\n",
      "420/420 [==============================] - 61s 146ms/step - loss: 0.5092 - accuracy: 0.8126 - val_loss: 0.4447 - val_accuracy: 0.8335\n",
      "Epoch 34/60\n",
      "420/420 [==============================] - 67s 159ms/step - loss: 0.5204 - accuracy: 0.8057 - val_loss: 0.2304 - val_accuracy: 0.8299\n",
      "Epoch 35/60\n",
      "420/420 [==============================] - 63s 150ms/step - loss: 0.5260 - accuracy: 0.8090 - val_loss: 0.4634 - val_accuracy: 0.8232\n",
      "Epoch 36/60\n",
      "420/420 [==============================] - 58s 139ms/step - loss: 0.5160 - accuracy: 0.8101 - val_loss: 0.4505 - val_accuracy: 0.8313\n",
      "Epoch 37/60\n",
      "420/420 [==============================] - 48s 114ms/step - loss: 0.5194 - accuracy: 0.8068 - val_loss: 0.5659 - val_accuracy: 0.8167\n",
      "Epoch 38/60\n",
      "420/420 [==============================] - 49s 116ms/step - loss: 0.5234 - accuracy: 0.8087 - val_loss: 0.3850 - val_accuracy: 0.8303\n",
      "Epoch 39/60\n",
      "420/420 [==============================] - 48s 115ms/step - loss: 0.5114 - accuracy: 0.8134 - val_loss: 0.4693 - val_accuracy: 0.8292\n",
      "Epoch 40/60\n",
      "420/420 [==============================] - 48s 114ms/step - loss: 0.4860 - accuracy: 0.8190 - val_loss: 0.5094 - val_accuracy: 0.8278\n",
      "Epoch 41/60\n",
      "420/420 [==============================] - 49s 117ms/step - loss: 0.5232 - accuracy: 0.8060 - val_loss: 0.4967 - val_accuracy: 0.8328\n",
      "Epoch 42/60\n",
      "420/420 [==============================] - 48s 115ms/step - loss: 0.5113 - accuracy: 0.8125 - val_loss: 0.4507 - val_accuracy: 0.8439\n",
      "Epoch 43/60\n",
      "420/420 [==============================] - 48s 115ms/step - loss: 0.5117 - accuracy: 0.8129 - val_loss: 0.5185 - val_accuracy: 0.8307\n",
      "Epoch 44/60\n",
      "420/420 [==============================] - 48s 115ms/step - loss: 0.5114 - accuracy: 0.8092 - val_loss: 0.2296 - val_accuracy: 0.8409\n",
      "Epoch 45/60\n",
      "420/420 [==============================] - 66s 157ms/step - loss: 0.5121 - accuracy: 0.8121 - val_loss: 0.4724 - val_accuracy: 0.8169\n",
      "Epoch 46/60\n",
      "420/420 [==============================] - 54s 128ms/step - loss: 0.5071 - accuracy: 0.8147 - val_loss: 0.5085 - val_accuracy: 0.8435\n",
      "Epoch 47/60\n",
      "420/420 [==============================] - 53s 126ms/step - loss: 0.5104 - accuracy: 0.8103 - val_loss: 0.4601 - val_accuracy: 0.8372\n",
      "Epoch 48/60\n",
      "420/420 [==============================] - 57s 135ms/step - loss: 0.5082 - accuracy: 0.8133 - val_loss: 0.4707 - val_accuracy: 0.8407\n",
      "Epoch 49/60\n",
      "420/420 [==============================] - 58s 138ms/step - loss: 0.5063 - accuracy: 0.8103 - val_loss: 0.4153 - val_accuracy: 0.8381\n",
      "Epoch 50/60\n",
      "420/420 [==============================] - 69s 165ms/step - loss: 0.4964 - accuracy: 0.8205 - val_loss: 0.6134 - val_accuracy: 0.8429\n",
      "Epoch 51/60\n",
      "420/420 [==============================] - 82s 196ms/step - loss: 0.4854 - accuracy: 0.8217 - val_loss: 0.3081 - val_accuracy: 0.8393\n",
      "Epoch 52/60\n",
      "420/420 [==============================] - 74s 176ms/step - loss: 0.5073 - accuracy: 0.8152 - val_loss: 0.7995 - val_accuracy: 0.8419\n",
      "Epoch 53/60\n",
      "420/420 [==============================] - 64s 153ms/step - loss: 0.5065 - accuracy: 0.8116 - val_loss: 0.2155 - val_accuracy: 0.8383\n",
      "Epoch 54/60\n",
      "420/420 [==============================] - 70s 166ms/step - loss: 0.5072 - accuracy: 0.8125 - val_loss: 0.5806 - val_accuracy: 0.8301\n",
      "Epoch 55/60\n",
      "420/420 [==============================] - 70s 167ms/step - loss: 0.4983 - accuracy: 0.8173 - val_loss: 0.5393 - val_accuracy: 0.8357\n",
      "Epoch 56/60\n",
      "420/420 [==============================] - 71s 169ms/step - loss: 0.4994 - accuracy: 0.8170 - val_loss: 0.4088 - val_accuracy: 0.8355\n",
      "Epoch 57/60\n"
     ]
    },
    {
     "name": "stdout",
     "output_type": "stream",
     "text": [
      "420/420 [==============================] - 79s 188ms/step - loss: 0.5018 - accuracy: 0.8155 - val_loss: 0.3470 - val_accuracy: 0.8336\n",
      "Epoch 58/60\n",
      "420/420 [==============================] - 71s 169ms/step - loss: 0.5071 - accuracy: 0.8144 - val_loss: 0.3663 - val_accuracy: 0.8407\n",
      "Epoch 59/60\n",
      "420/420 [==============================] - 59s 141ms/step - loss: 0.4958 - accuracy: 0.8129 - val_loss: 0.5775 - val_accuracy: 0.8338\n",
      "Epoch 60/60\n",
      "420/420 [==============================] - 56s 134ms/step - loss: 0.4903 - accuracy: 0.8194 - val_loss: 0.6626 - val_accuracy: 0.8221\n",
      "Wall time: 58min 26s\n"
     ]
    },
    {
     "data": {
      "text/plain": [
       "<keras.callbacks.callbacks.History at 0x1f426adb828>"
      ]
     },
     "execution_count": 133,
     "metadata": {},
     "output_type": "execute_result"
    }
   ],
   "source": [
    "%%time\n",
    "\n",
    "model_cnn.fit_generator(train_generator_cnn, steps_per_epoch=420,epochs=60, validation_data=validation_generator_cnn)"
   ]
  },
  {
   "cell_type": "markdown",
   "metadata": {},
   "source": [
    "Fitting the model after pre-processing"
   ]
  },
  {
   "cell_type": "code",
   "execution_count": 128,
   "metadata": {},
   "outputs": [],
   "source": [
    "# I am scaling the images in this.\n",
    "# Because when I did without scaling, the results were awful\n",
    "# This is probably because the network has been trained for that scale\n",
    "test_images_cnn_1 = test_images_cnn.astype('float32') / 255"
   ]
  },
  {
   "cell_type": "code",
   "execution_count": 129,
   "metadata": {},
   "outputs": [
    {
     "name": "stdout",
     "output_type": "stream",
     "text": [
      "10000/10000 [==============================] - 8s 828us/step\n"
     ]
    },
    {
     "data": {
      "text/plain": [
       "[0.5608284721851349, 0.7961999773979187]"
      ]
     },
     "execution_count": 129,
     "metadata": {},
     "output_type": "execute_result"
    }
   ],
   "source": [
    "#Evaluating the results on model trained on standarised samples\n",
    "model_cnn.evaluate(test_images_cnn_1,test_labels)\n"
   ]
  },
  {
   "cell_type": "code",
   "execution_count": 130,
   "metadata": {},
   "outputs": [
    {
     "data": {
      "text/plain": [
       "0.7961999773979187"
      ]
     },
     "execution_count": 130,
     "metadata": {},
     "output_type": "execute_result"
    }
   ],
   "source": [
    "test_acc_cnn\n",
    "\n",
    "# The current training of the model is roughly equal to two epochs of normal cnn\n",
    "# Thus if we train it for more epochs, this should improve."
   ]
  },
  {
   "cell_type": "markdown",
   "metadata": {},
   "source": [
    "#### MLP "
   ]
  },
  {
   "cell_type": "code",
   "execution_count": 118,
   "metadata": {
    "scrolled": true
   },
   "outputs": [
    {
     "name": "stdout",
     "output_type": "stream",
     "text": [
      "Epoch 1/30\n",
      "420/420 [==============================] - 18s 43ms/step - loss: 1.4197 - accuracy: 0.4665 - val_loss: 0.9640 - val_accuracy: 0.5936\n",
      "Epoch 2/30\n",
      "420/420 [==============================] - 20s 48ms/step - loss: 1.0918 - accuracy: 0.5911 - val_loss: 0.7033 - val_accuracy: 0.6833\n",
      "Epoch 3/30\n",
      "420/420 [==============================] - 19s 45ms/step - loss: 1.0143 - accuracy: 0.6255 - val_loss: 0.6299 - val_accuracy: 0.6658\n",
      "Epoch 4/30\n",
      "420/420 [==============================] - 18s 44ms/step - loss: 0.9615 - accuracy: 0.6397 - val_loss: 1.0365 - val_accuracy: 0.7022\n",
      "Epoch 5/30\n",
      "420/420 [==============================] - 18s 43ms/step - loss: 0.9414 - accuracy: 0.6469 - val_loss: 0.4070 - val_accuracy: 0.7407\n",
      "Epoch 6/30\n",
      "420/420 [==============================] - 20s 49ms/step - loss: 0.9103 - accuracy: 0.6648 - val_loss: 0.5647 - val_accuracy: 0.7356\n",
      "Epoch 7/30\n",
      "420/420 [==============================] - 17s 41ms/step - loss: 0.8820 - accuracy: 0.6741 - val_loss: 0.6701 - val_accuracy: 0.7125\n",
      "Epoch 8/30\n",
      "420/420 [==============================] - 21s 49ms/step - loss: 0.8656 - accuracy: 0.6771 - val_loss: 0.6419 - val_accuracy: 0.7146\n",
      "Epoch 9/30\n",
      "420/420 [==============================] - 21s 50ms/step - loss: 0.8608 - accuracy: 0.6899 - val_loss: 0.9655 - val_accuracy: 0.7436\n",
      "Epoch 10/30\n",
      "420/420 [==============================] - 20s 48ms/step - loss: 0.8605 - accuracy: 0.6882 - val_loss: 0.5442 - val_accuracy: 0.7362\n",
      "Epoch 11/30\n",
      "420/420 [==============================] - 24s 56ms/step - loss: 0.8390 - accuracy: 0.6938 - val_loss: 0.6356 - val_accuracy: 0.7168\n",
      "Epoch 12/30\n",
      "420/420 [==============================] - 25s 58ms/step - loss: 0.8437 - accuracy: 0.6985 - val_loss: 0.5563 - val_accuracy: 0.7614\n",
      "Epoch 13/30\n",
      "420/420 [==============================] - 20s 47ms/step - loss: 0.8279 - accuracy: 0.7079 - val_loss: 0.6371 - val_accuracy: 0.7425\n",
      "Epoch 14/30\n",
      "420/420 [==============================] - 20s 48ms/step - loss: 0.8308 - accuracy: 0.6998 - val_loss: 0.6186 - val_accuracy: 0.7348\n",
      "Epoch 15/30\n",
      "420/420 [==============================] - 20s 47ms/step - loss: 0.8406 - accuracy: 0.7010 - val_loss: 1.0636 - val_accuracy: 0.7583\n",
      "Epoch 16/30\n",
      "420/420 [==============================] - 20s 48ms/step - loss: 0.8330 - accuracy: 0.7089 - val_loss: 0.4565 - val_accuracy: 0.7723\n",
      "Epoch 17/30\n",
      "420/420 [==============================] - 21s 51ms/step - loss: 0.8121 - accuracy: 0.7131 - val_loss: 1.2250 - val_accuracy: 0.7090\n",
      "Epoch 18/30\n",
      "420/420 [==============================] - 19s 45ms/step - loss: 0.8388 - accuracy: 0.7094 - val_loss: 0.8203 - val_accuracy: 0.7396\n",
      "Epoch 19/30\n",
      "420/420 [==============================] - 19s 45ms/step - loss: 0.8259 - accuracy: 0.7067 - val_loss: 1.2337 - val_accuracy: 0.7623\n",
      "Epoch 20/30\n",
      "420/420 [==============================] - 18s 43ms/step - loss: 0.8160 - accuracy: 0.7115 - val_loss: 0.9766 - val_accuracy: 0.7360\n",
      "Epoch 21/30\n",
      "420/420 [==============================] - 19s 46ms/step - loss: 0.8289 - accuracy: 0.7161 - val_loss: 0.7936 - val_accuracy: 0.7547\n",
      "Epoch 22/30\n",
      "420/420 [==============================] - 18s 43ms/step - loss: 0.8376 - accuracy: 0.7097 - val_loss: 1.8823 - val_accuracy: 0.7136\n",
      "Epoch 23/30\n",
      "420/420 [==============================] - 18s 43ms/step - loss: 0.8196 - accuracy: 0.7185 - val_loss: 0.8332 - val_accuracy: 0.7320\n",
      "Epoch 24/30\n",
      "420/420 [==============================] - 18s 44ms/step - loss: 0.8268 - accuracy: 0.7174 - val_loss: 0.8653 - val_accuracy: 0.7620\n",
      "Epoch 25/30\n",
      "420/420 [==============================] - 18s 43ms/step - loss: 0.8195 - accuracy: 0.7172 - val_loss: 0.6305 - val_accuracy: 0.7801\n",
      "Epoch 26/30\n",
      "420/420 [==============================] - 18s 43ms/step - loss: 0.8261 - accuracy: 0.7100 - val_loss: 0.6960 - val_accuracy: 0.7658\n",
      "Epoch 27/30\n",
      "420/420 [==============================] - 19s 45ms/step - loss: 0.8125 - accuracy: 0.7282 - val_loss: 0.5151 - val_accuracy: 0.7685\n",
      "Epoch 28/30\n",
      "420/420 [==============================] - 19s 45ms/step - loss: 0.8426 - accuracy: 0.7145 - val_loss: 0.5718 - val_accuracy: 0.7440\n",
      "Epoch 29/30\n",
      "420/420 [==============================] - 17s 40ms/step - loss: 0.8438 - accuracy: 0.7147 - val_loss: 0.7884 - val_accuracy: 0.7838\n",
      "Epoch 30/30\n",
      "420/420 [==============================] - 19s 46ms/step - loss: 0.8239 - accuracy: 0.7242 - val_loss: 0.5866 - val_accuracy: 0.7577\n"
     ]
    },
    {
     "data": {
      "text/plain": [
       "<keras.callbacks.callbacks.History at 0x1f42fc69940>"
      ]
     },
     "execution_count": 118,
     "metadata": {},
     "output_type": "execute_result"
    }
   ],
   "source": [
    "#Fitting the mlp with the generator that creates randomness in the images. \n",
    "\n",
    "model1.fit_generator(train_generator_cnn, steps_per_epoch=420,epochs=30, validation_data=validation_generator_cnn)"
   ]
  },
  {
   "cell_type": "code",
   "execution_count": 132,
   "metadata": {},
   "outputs": [
    {
     "name": "stdout",
     "output_type": "stream",
     "text": [
      "10000/10000 [==============================] - 3s 257us/step\n"
     ]
    },
    {
     "data": {
      "text/plain": [
       "0.698199987411499"
      ]
     },
     "execution_count": 132,
     "metadata": {},
     "output_type": "execute_result"
    }
   ],
   "source": [
    "test_loss_mlp, test_acc_mlp = model1.evaluate(test_images_cnn, test_labels)\n",
    "test_acc_mlp\n",
    "\n",
    "# This is just equivalent to one epoch if that is increased this should also go up."
   ]
  },
  {
   "cell_type": "markdown",
   "metadata": {},
   "source": [
    "## Observation "
   ]
  },
  {
   "cell_type": "markdown",
   "metadata": {},
   "source": [
    "Following are the things we observed:\n",
    "\n",
    "The dataset had ten different categories. We displayed random images and realized that they are different fashion products as the name suggests. \n",
    "\n",
    "We created a perceptron with a single hidden layer with 512 nodes. Its accuracy was about 88% on the test set. This was not mentioned in the question but we tried it just to set the benchmark for the most basic NN model. </br>\n",
    "\n",
    "We also created a multi-layered perceptron as mentioned in the question. It was tending to overfit after a 10 epochs. Thus we \n",
    "retrained the model to run only for 10 epochs. We chose to go with the funneling technique reducing the number of nodes in each layer. This was one of the many techniques discussed in class. The accuracy was around 88% on the test set. The surprising this here was despite addition of three hidden layers, there was no improvement in accuracy. </br>\n",
    "\n",
    "We then created a CNN model. We added two sequences of convulusion-pooling-dropout based on the parameters to the best of our intuition. This model was two percentage points better than the multi-layer perceptron. </br>\n",
    "\n",
    "After Image preprocessing we tried the models again. We only implemented scaling in validation data set and no other transformations. We noticed that after this the performance of CNN improved but not of the MLP. This might be attributed to the fact that the CNN learns local pattersn irrespective to its placement in the image unlike the MLP. Thus its performance improvement as it was able to patternize better. Our next step would be trying different combinations of parameters and different pre-trained networks to make things better."
   ]
  }
 ],
 "metadata": {
  "kernelspec": {
   "display_name": "Python 3",
   "language": "python",
   "name": "python3"
  },
  "language_info": {
   "codemirror_mode": {
    "name": "ipython",
    "version": 3
   },
   "file_extension": ".py",
   "mimetype": "text/x-python",
   "name": "python",
   "nbconvert_exporter": "python",
   "pygments_lexer": "ipython3",
   "version": "3.7.3"
  }
 },
 "nbformat": 4,
 "nbformat_minor": 2
}
